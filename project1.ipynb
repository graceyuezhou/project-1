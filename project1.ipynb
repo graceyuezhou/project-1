{
 "cells": [
  {
   "cell_type": "markdown",
   "metadata": {},
   "source": [
    "<img src=\"http://imgur.com/1ZcRyrc.png\" style=\"float: left; margin: 20px; height: 55px\">\n",
    "\n",
    "# Project 1: Python Coding Exercises\n",
    "\n",
    "_Authors: Joseph Nelson (DC), Dan Wilhelm (LA)_\n",
    "\n",
    "---"
   ]
  },
  {
   "cell_type": "markdown",
   "metadata": {},
   "source": [
    "The following code challenges are drawn from common exercises used in technical interviews.\n",
    "\n",
    "Please note that there may be several ways to approach each challenge. If you get stuck, try mapping out your approach in pseudocode first. Finally, while solutions to problems like these may be found online, remember that if you copy/paste code that you can't explain, you'll be missing out on the point of the project. The only way to truly learn a new skill is through practice, trial, and error - we can only help you improve by understanding where you are having trouble."
   ]
  },
  {
   "cell_type": "markdown",
   "metadata": {},
   "source": [
    "### Challenge 1: Largest Palindrome\n",
    "A palindromic number reads the same both ways. For example, 1234321 is a palindrome. The largest palindrome made from the product of two two-digit numbers is 9009 = 91 × 99. Find the largest palindrome made from the product of two three-digit numbers. Afterward, write a brief explanation walking through your code's logic in markdown."
   ]
  },
  {
   "cell_type": "code",
   "execution_count": 4,
   "metadata": {},
   "outputs": [
    {
     "name": "stdout",
     "output_type": "stream",
     "text": [
      "906609\n"
     ]
    }
   ],
   "source": [
    "max_p = 0\n",
    "prod = 0\n",
    "\n",
    "for n in range(100,1000):\n",
    "    for m in range(100,1000):\n",
    "        prod = n*m\n",
    "        s = list(str(prod)[0:3])\n",
    "        r = list(str(prod)[3:6])\n",
    "        s.reverse()\n",
    "        if s == r and prod > max_p:\n",
    "            max_p = n*m\n",
    "print(max_p)\n",
    "\n",
    "#for each combination of 2 numbers from 1 to 999, test whether the product is a Palindrome until the largest product is reached"
   ]
  },
  {
   "cell_type": "markdown",
   "metadata": {},
   "source": [
    "\n",
    "### Challenge 2: Summation of Primes\n",
    "The sum of the primes below 10 is 2 + 3 + 5 + 7 = 17. Find the sum of all the primes below 2,000. Afterward, write a brief explanation walking through your code's logic in markdown."
   ]
  },
  {
   "cell_type": "code",
   "execution_count": 3,
   "metadata": {},
   "outputs": [
    {
     "name": "stdout",
     "output_type": "stream",
     "text": [
      "277050\n"
     ]
    }
   ],
   "source": [
    "s = 0\n",
    "bound = list(range(2,2000))\n",
    "\n",
    "for n in bound:\n",
    "    if all(n%m!=0 for m in list(range(2,n))):\n",
    "        s+=n\n",
    "        #print(n)\n",
    "print(s)"
   ]
  },
  {
   "cell_type": "markdown",
   "metadata": {},
   "source": [
    "### Challenge 3: Multiples of 3 and 5\n",
    "If we list all of the natural numbers below 10 that are multiples of 3 or 5, we get 3, 5, 6, and 9. The sum of these multiples is 23. Find the sum of all the multiples of 3 and 5 below 1,000. Afterward, write a brief explanation walking through your code's logic in markdown."
   ]
  },
  {
   "cell_type": "code",
   "execution_count": 2,
   "metadata": {},
   "outputs": [
    {
     "name": "stdout",
     "output_type": "stream",
     "text": [
      "233168\n"
     ]
    }
   ],
   "source": [
    "s=0\n",
    "\n",
    "for i in range(1,1000):\n",
    "    if i%3==0 or i%5==0:\n",
    "        s+=i\n",
    "print(s)\n",
    "\n",
    "#for each natural number from 1 to 999, test whether it is a multiple of 3 or 5. If yes, add it to a running total"
   ]
  },
  {
   "cell_type": "markdown",
   "metadata": {},
   "source": [
    "### Challenge 4: String Compressor\n",
    "Write a function to perform basic string compression using the counts of repeated characters. (This is called run-length encoding.) For example, the string \"aabcccccaaa\" would become a2b1c5a3. If the “compressed” string would not become smaller than the original string, your method should return the original string. You can assume the string has only uppercase and lowercase letters (a–z). Specify whether your solution is case sensitive or case insensitive and what you would need to change to make it the other. Afterward, write a brief explanation walking through your code's logic in markdown."
   ]
  },
  {
   "cell_type": "code",
   "execution_count": null,
   "metadata": {
    "collapsed": true
   },
   "outputs": [],
   "source": []
  },
  {
   "cell_type": "markdown",
   "metadata": {},
   "source": [
    "### Challenge 5: CSV Reader\n",
    "Write a function `read_csv` that opens a CSV file and returns a list of named tuples. \n",
    "\n",
    "+ Read the [namedtuple docs](https://docs.python.org/3/library/collections.html#collections.namedtuple).\n",
    "+ Do not use the Python CSV reader standard library.\n",
    "+ Assume the first row of the CSV file is always a header row. \n",
    "+ Assume the CSV file does not contain any quoted fields.\n",
    "+ Assume no fields are missing or have invalid values.\n",
    "+ All returned fields can be left as strings.\n",
    "\n",
    "Optional challenges:\n",
    "+ _Optional:_ Support quoted fields. (A double-quoted string can contain commas without indicating a new field.) For an example and test case, see `./data/athletes-original.csv`.\n",
    "+ _Optional:_ Implement the `dtypes` parameter. This dictionary specifies the data type that each CSV field should be converted to. For example, `int` would indicate the field should be converted from a string to an integer. If a field is not named, leave it as a string. See the dictionary in the below starter code for an example.\n",
    "\n",
    "_Hint:_ The final output will look like:\n",
    "\n",
    "[Row(name='Lamusi A', sport='Judo', age='23', height='170', weight='60', country=\"People's Republic of China\", sex='M', gold='0', silver='0', bronze='0', total='0'), \n",
    "\n",
    "Row(name='A G Kruger', sport='Athletics', age='33', height='193', weight='125', country='United States of America', sex='M', gold='0', silver='0', bronze='0', total='0'),\n",
    "\n",
    "...]"
   ]
  },
  {
   "cell_type": "code",
   "execution_count": 38,
   "metadata": {},
   "outputs": [
    {
     "data": {
      "text/plain": [
       "[]"
      ]
     },
     "execution_count": 38,
     "metadata": {},
     "output_type": "execute_result"
    }
   ],
   "source": [
    "from collections import namedtuple\n",
    "\n",
    "def read_csv(filename, dtypes={}, encoding='utf-8'):\n",
    "    \"\"\" Returns a list of namedtuples. \n",
    "    The fields in each namedtuple are specified by the header row.\"\"\"\n",
    "    rows = []\n",
    "    \n",
    "    # Your code here!\n",
    "    \n",
    "    return rows\n",
    "\n",
    "\n",
    "# For the challenge problem only\n",
    "dtypes = {'age': int, 'height': int, 'weight': int, \n",
    "          'gold': int, 'silver': int, 'bronze': int, 'total': int}\n",
    "\n",
    "read_csv('./data/athletes-unquoted.csv', dtypes=dtypes)"
   ]
  },
  {
   "cell_type": "markdown",
   "metadata": {},
   "source": [
    "### *BONUS* Challenge: FizzBuzz\n",
    "Write a program that prints all of the numbers from 1 to 100. For multiples of 3, instead of the number, print \"Fizz;\" for multiples of 5, print \"Buzz.\" For numbers that are multiples of both 3 and 5, print \"FizzBuzz.\" Afterward, write a brief explanation walking through your code's logic in markdown."
   ]
  },
  {
   "cell_type": "code",
   "execution_count": 1,
   "metadata": {},
   "outputs": [
    {
     "name": "stdout",
     "output_type": "stream",
     "text": [
      "1\n",
      "2\n",
      "Fizz\n",
      "4\n",
      "Buzz\n",
      "Fizz\n",
      "7\n",
      "8\n",
      "Fizz\n",
      "Buzz\n",
      "11\n",
      "Fizz\n",
      "13\n",
      "14\n",
      "FizzBuzz\n",
      "16\n",
      "17\n",
      "Fizz\n",
      "19\n",
      "Buzz\n",
      "Fizz\n",
      "22\n",
      "23\n",
      "Fizz\n",
      "Buzz\n",
      "26\n",
      "Fizz\n",
      "28\n",
      "29\n",
      "FizzBuzz\n",
      "31\n",
      "32\n",
      "Fizz\n",
      "34\n",
      "Buzz\n",
      "Fizz\n",
      "37\n",
      "38\n",
      "Fizz\n",
      "Buzz\n",
      "41\n",
      "Fizz\n",
      "43\n",
      "44\n",
      "FizzBuzz\n",
      "46\n",
      "47\n",
      "Fizz\n",
      "49\n",
      "Buzz\n",
      "Fizz\n",
      "52\n",
      "53\n",
      "Fizz\n",
      "Buzz\n",
      "56\n",
      "Fizz\n",
      "58\n",
      "59\n",
      "FizzBuzz\n",
      "61\n",
      "62\n",
      "Fizz\n",
      "64\n",
      "Buzz\n",
      "Fizz\n",
      "67\n",
      "68\n",
      "Fizz\n",
      "Buzz\n",
      "71\n",
      "Fizz\n",
      "73\n",
      "74\n",
      "FizzBuzz\n",
      "76\n",
      "77\n",
      "Fizz\n",
      "79\n",
      "Buzz\n",
      "Fizz\n",
      "82\n",
      "83\n",
      "Fizz\n",
      "Buzz\n",
      "86\n",
      "Fizz\n",
      "88\n",
      "89\n",
      "FizzBuzz\n",
      "91\n",
      "92\n",
      "Fizz\n",
      "94\n",
      "Buzz\n",
      "Fizz\n",
      "97\n",
      "98\n",
      "Fizz\n",
      "Buzz\n"
     ]
    }
   ],
   "source": [
    "for n in range(1, 101):\n",
    "    if n%3 == 0 and n%5 == 0:\n",
    "        print('FizzBuzz')\n",
    "    elif n%3 == 0:\n",
    "        print('Fizz')\n",
    "    elif n%5 == 0:\n",
    "        print('Buzz')\n",
    "    else:\n",
    "        print(n)\n",
    "#for each number from 1 to 100, test whether it is a multiple of 3 and 5, a multiple of 3 only, a multiple of 5 only, or else"
   ]
  },
  {
   "cell_type": "code",
   "execution_count": null,
   "metadata": {},
   "outputs": [],
   "source": []
  }
 ],
 "metadata": {
  "anaconda-cloud": {},
  "kernelspec": {
   "display_name": "Python 3",
   "language": "python",
   "name": "python3"
  },
  "language_info": {
   "codemirror_mode": {
    "name": "ipython",
    "version": 3
   },
   "file_extension": ".py",
   "mimetype": "text/x-python",
   "name": "python",
   "nbconvert_exporter": "python",
   "pygments_lexer": "ipython3",
   "version": "3.7.1"
  }
 },
 "nbformat": 4,
 "nbformat_minor": 2
}
